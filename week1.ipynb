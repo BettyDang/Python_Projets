{
 "cells": [
  {
   "cell_type": "code",
   "execution_count": 10,
   "id": "0f89ca4b-60fb-464a-ab1b-56551d6a3987",
   "metadata": {},
   "outputs": [],
   "source": [
    "first_name = \"betty\"\n",
    "last_name = 'dang'"
   ]
  },
  {
   "cell_type": "code",
   "execution_count": 14,
   "id": "9a9557b4-9a3b-4e7f-ba26-1fe553527a08",
   "metadata": {},
   "outputs": [],
   "source": [
    "first_name = \"elie\""
   ]
  },
  {
   "cell_type": "code",
   "execution_count": 16,
   "id": "6b032414-113c-4fba-8ffc-bcdd788ee15e",
   "metadata": {},
   "outputs": [
    {
     "data": {
      "text/plain": [
       "'elie'"
      ]
     },
     "execution_count": 16,
     "metadata": {},
     "output_type": "execute_result"
    }
   ],
   "source": [
    "first_name"
   ]
  },
  {
   "cell_type": "code",
   "execution_count": null,
   "id": "e0ad954c-a58f-4139-b83d-44edf6fc2ac0",
   "metadata": {},
   "outputs": [],
   "source": []
  }
 ],
 "metadata": {
  "kernelspec": {
   "display_name": "Python 3 (ipykernel)",
   "language": "python",
   "name": "python3"
  },
  "language_info": {
   "codemirror_mode": {
    "name": "ipython",
    "version": 3
   },
   "file_extension": ".py",
   "mimetype": "text/x-python",
   "name": "python",
   "nbconvert_exporter": "python",
   "pygments_lexer": "ipython3",
   "version": "3.12.4"
  }
 },
 "nbformat": 4,
 "nbformat_minor": 5
}
