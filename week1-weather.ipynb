{
 "cells": [
  {
   "cell_type": "code",
   "execution_count": 1,
   "id": "441fb03d-d279-4256-b410-3d42a7d109e1",
   "metadata": {},
   "outputs": [
    {
     "data": {
      "text/plain": [
       "'C:\\\\Users\\\\Hello'"
      ]
     },
     "execution_count": 1,
     "metadata": {},
     "output_type": "execute_result"
    }
   ],
   "source": [
    "import os\n",
    "os.getcwd()"
   ]
  },
  {
   "cell_type": "code",
   "execution_count": 11,
   "id": "20c74131-5f05-4bfe-ac9e-496233561608",
   "metadata": {},
   "outputs": [],
   "source": [
    "temperature = 23\n",
    "humidity = 60.0\n",
    "location = \"Montreal\"\n",
    "weather_description = \"Partly Cloudy\"\n",
    "time = \"16:48\""
   ]
  },
  {
   "cell_type": "code",
   "execution_count": 15,
   "id": "8ba017dd-524b-42a8-bd8c-7c679df4b839",
   "metadata": {},
   "outputs": [
    {
     "data": {
      "text/plain": [
       "True"
      ]
     },
     "execution_count": 15,
     "metadata": {},
     "output_type": "execute_result"
    }
   ],
   "source": [
    "type(temperature) == int"
   ]
  },
  {
   "cell_type": "code",
   "execution_count": 13,
   "id": "f5d53259-f54c-4ecf-88bf-420d6552a7b8",
   "metadata": {},
   "outputs": [
    {
     "data": {
      "text/plain": [
       "float"
      ]
     },
     "execution_count": 13,
     "metadata": {},
     "output_type": "execute_result"
    }
   ],
   "source": [
    "type(humidity)"
   ]
  },
  {
   "cell_type": "code",
   "execution_count": 19,
   "id": "84560fcc-5497-421b-b0be-bd0cc73f7965",
   "metadata": {},
   "outputs": [
    {
     "data": {
      "text/plain": [
       "73.4"
      ]
     },
     "execution_count": 19,
     "metadata": {},
     "output_type": "execute_result"
    }
   ],
   "source": [
    "temperature_fahrenheit = (temperature * 9/5) + 32\n",
    "temperature_fahrenheit"
   ]
  },
  {
   "cell_type": "code",
   "execution_count": 33,
   "id": "a6262177-e692-49bd-a6ef-eb545cba867f",
   "metadata": {},
   "outputs": [
    {
     "data": {
      "text/plain": [
       "'Moderate'"
      ]
     },
     "execution_count": 33,
     "metadata": {},
     "output_type": "execute_result"
    }
   ],
   "source": [
    "humidity_description = \"High\" if humidity > 70 else \"Moderate\"\n",
    "humidity_description"
   ]
  },
  {
   "cell_type": "code",
   "execution_count": 31,
   "id": "4ee487d1-baff-4607-a4fc-83fbc29b908e",
   "metadata": {},
   "outputs": [],
   "source": [
    "humidity = 69.99"
   ]
  }
 ],
 "metadata": {
  "kernelspec": {
   "display_name": "Python 3 (ipykernel)",
   "language": "python",
   "name": "python3"
  },
  "language_info": {
   "codemirror_mode": {
    "name": "ipython",
    "version": 3
   },
   "file_extension": ".py",
   "mimetype": "text/x-python",
   "name": "python",
   "nbconvert_exporter": "python",
   "pygments_lexer": "ipython3",
   "version": "3.12.4"
  }
 },
 "nbformat": 4,
 "nbformat_minor": 5
}
