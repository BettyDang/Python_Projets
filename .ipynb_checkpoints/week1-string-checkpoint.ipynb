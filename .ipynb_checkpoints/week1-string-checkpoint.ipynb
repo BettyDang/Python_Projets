{
 "cells": [
  {
   "cell_type": "code",
   "execution_count": 3,
   "id": "02e3042f-c0e6-4172-874e-e59038c59d48",
   "metadata": {},
   "outputs": [
    {
     "data": {
      "text/plain": [
       "'Betty Dang'"
      ]
     },
     "execution_count": 3,
     "metadata": {},
     "output_type": "execute_result"
    }
   ],
   "source": [
    "str1 = \"Betty\"\n",
    "str2 = \"Dang\"\n",
    "\n",
    "str_concatenated = str1 + \" \" + str2\n",
    "\n",
    "str_concatenated"
   ]
  },
  {
   "cell_type": "code",
   "execution_count": 5,
   "id": "4f918797-0aba-4c4e-b7af-6a7edf4b0fb5",
   "metadata": {},
   "outputs": [
    {
     "data": {
      "text/plain": [
       "'Betty Dang'"
      ]
     },
     "execution_count": 5,
     "metadata": {},
     "output_type": "execute_result"
    }
   ],
   "source": [
    "str_concatenated = f\"{str1} {str2}\"\n",
    "\n",
    "str_concatenated"
   ]
  },
  {
   "cell_type": "code",
   "execution_count": 7,
   "id": "642558a9-cba6-4a6e-892b-bd475760149b",
   "metadata": {},
   "outputs": [
    {
     "data": {
      "text/plain": [
       "'elieelieelie'"
      ]
     },
     "execution_count": 7,
     "metadata": {},
     "output_type": "execute_result"
    }
   ],
   "source": [
    "\"elie\" * 3"
   ]
  },
  {
   "cell_type": "code",
   "execution_count": 9,
   "id": "1d30c084-8ec6-4536-9747-230fd4e071ec",
   "metadata": {},
   "outputs": [
    {
     "data": {
      "text/plain": [
       "False"
      ]
     },
     "execution_count": 9,
     "metadata": {},
     "output_type": "execute_result"
    }
   ],
   "source": [
    "False and True "
   ]
  },
  {
   "cell_type": "code",
   "execution_count": 11,
   "id": "8cdf0639-ff3c-4498-8032-cb067ddfe7ef",
   "metadata": {},
   "outputs": [
    {
     "data": {
      "text/plain": [
       "True"
      ]
     },
     "execution_count": 11,
     "metadata": {},
     "output_type": "execute_result"
    }
   ],
   "source": [
    "True and True"
   ]
  },
  {
   "cell_type": "code",
   "execution_count": 13,
   "id": "689794ec-8a74-446a-942f-a9687a0a5ecb",
   "metadata": {},
   "outputs": [
    {
     "data": {
      "text/plain": [
       "False"
      ]
     },
     "execution_count": 13,
     "metadata": {},
     "output_type": "execute_result"
    }
   ],
   "source": [
    "True and True and False"
   ]
  },
  {
   "cell_type": "code",
   "execution_count": 21,
   "id": "fb503912-d2d9-415b-b0a6-f1fae0771544",
   "metadata": {},
   "outputs": [
    {
     "data": {
      "text/plain": [
       "True"
      ]
     },
     "execution_count": 21,
     "metadata": {},
     "output_type": "execute_result"
    }
   ],
   "source": [
    "True or True or False"
   ]
  },
  {
   "cell_type": "code",
   "execution_count": 23,
   "id": "430c5706-2060-46c4-9701-6c8283aa31e0",
   "metadata": {},
   "outputs": [
    {
     "data": {
      "text/plain": [
       "True"
      ]
     },
     "execution_count": 23,
     "metadata": {},
     "output_type": "execute_result"
    }
   ],
   "source": [
    "is_breakfast_eaten = True\n",
    "is_lunch_eaten = True\n",
    "is_supper_eaten = False\n",
    "\n",
    "is_food_eaten_today = is_breakfast_eaten or is_lunch_eaten or is_supper_eaten\n",
    "\n",
    "is_food_eaten_today"
   ]
  },
  {
   "cell_type": "code",
   "execution_count": 27,
   "id": "2f9f3dc8-a1de-4fc7-a3a6-ccb7d292d4df",
   "metadata": {},
   "outputs": [
    {
     "data": {
      "text/plain": [
       "False"
      ]
     },
     "execution_count": 27,
     "metadata": {},
     "output_type": "execute_result"
    }
   ],
   "source": [
    "is_secure = True\n",
    "has_hobby = True\n",
    "has_greater_purpose =  False\n",
    "\n",
    "is_satisfied = is_secure and has_hobby and has_greater_purpose\n",
    "\n",
    "is_satisfied"
   ]
  },
  {
   "cell_type": "code",
   "execution_count": 31,
   "id": "46b1bc70-260b-4d5d-a069-7659c728a28a",
   "metadata": {},
   "outputs": [
    {
     "data": {
      "text/plain": [
       "int"
      ]
     },
     "execution_count": 31,
     "metadata": {},
     "output_type": "execute_result"
    }
   ],
   "source": [
    "type(9//3) "
   ]
  },
  {
   "cell_type": "code",
   "execution_count": 33,
   "id": "8093424d-9dc4-480e-b6e7-64600e87fa02",
   "metadata": {},
   "outputs": [
    {
     "data": {
      "text/plain": [
       "float"
      ]
     },
     "execution_count": 33,
     "metadata": {},
     "output_type": "execute_result"
    }
   ],
   "source": [
    "type(9/3)"
   ]
  }
 ],
 "metadata": {
  "kernelspec": {
   "display_name": "Python 3 (ipykernel)",
   "language": "python",
   "name": "python3"
  },
  "language_info": {
   "codemirror_mode": {
    "name": "ipython",
    "version": 3
   },
   "file_extension": ".py",
   "mimetype": "text/x-python",
   "name": "python",
   "nbconvert_exporter": "python",
   "pygments_lexer": "ipython3",
   "version": "3.12.4"
  }
 },
 "nbformat": 4,
 "nbformat_minor": 5
}
